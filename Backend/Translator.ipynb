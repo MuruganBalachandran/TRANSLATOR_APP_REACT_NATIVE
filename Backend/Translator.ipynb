{
  "nbformat": 4,
  "nbformat_minor": 0,
  "metadata": {
    "colab": {
      "provenance": []
    },
    "kernelspec": {
      "name": "python3",
      "display_name": "Python 3"
    },
    "language_info": {
      "name": "python"
    }
  },
  "cells": [
    {
      "cell_type": "markdown",
      "source": [
        "# Package Installation"
      ],
      "metadata": {
        "id": "uFbRd5wDe-CA"
      }
    },
    {
      "cell_type": "code",
      "execution_count": 2,
      "metadata": {
        "colab": {
          "base_uri": "https://localhost:8080/"
        },
        "id": "xA4598MAe9Jk",
        "outputId": "93ac8123-065c-4856-e731-b569aa0b33b8"
      },
      "outputs": [
        {
          "output_type": "stream",
          "name": "stdout",
          "text": [
            "Collecting deep-translator\n",
            "  Downloading deep_translator-1.11.4-py3-none-any.whl.metadata (30 kB)\n",
            "Requirement already satisfied: beautifulsoup4<5.0.0,>=4.9.1 in /usr/local/lib/python3.10/dist-packages (from deep-translator) (4.12.3)\n",
            "Requirement already satisfied: requests<3.0.0,>=2.23.0 in /usr/local/lib/python3.10/dist-packages (from deep-translator) (2.32.3)\n",
            "Requirement already satisfied: soupsieve>1.2 in /usr/local/lib/python3.10/dist-packages (from beautifulsoup4<5.0.0,>=4.9.1->deep-translator) (2.5)\n",
            "Requirement already satisfied: charset-normalizer<4,>=2 in /usr/local/lib/python3.10/dist-packages (from requests<3.0.0,>=2.23.0->deep-translator) (3.3.2)\n",
            "Requirement already satisfied: idna<4,>=2.5 in /usr/local/lib/python3.10/dist-packages (from requests<3.0.0,>=2.23.0->deep-translator) (3.7)\n",
            "Requirement already satisfied: urllib3<3,>=1.21.1 in /usr/local/lib/python3.10/dist-packages (from requests<3.0.0,>=2.23.0->deep-translator) (2.0.7)\n",
            "Requirement already satisfied: certifi>=2017.4.17 in /usr/local/lib/python3.10/dist-packages (from requests<3.0.0,>=2.23.0->deep-translator) (2024.7.4)\n",
            "Downloading deep_translator-1.11.4-py3-none-any.whl (42 kB)\n",
            "\u001b[2K   \u001b[90m━━━━━━━━━━━━━━━━━━━━━━━━━━━━━━━━━━━━━━━━\u001b[0m \u001b[32m42.3/42.3 kB\u001b[0m \u001b[31m3.2 MB/s\u001b[0m eta \u001b[36m0:00:00\u001b[0m\n",
            "\u001b[?25hInstalling collected packages: deep-translator\n",
            "Successfully installed deep-translator-1.11.4\n",
            "Collecting gtts\n",
            "  Downloading gTTS-2.5.2-py3-none-any.whl.metadata (4.1 kB)\n",
            "Requirement already satisfied: requests<3,>=2.27 in /usr/local/lib/python3.10/dist-packages (from gtts) (2.32.3)\n",
            "Requirement already satisfied: click<8.2,>=7.1 in /usr/local/lib/python3.10/dist-packages (from gtts) (8.1.7)\n",
            "Requirement already satisfied: charset-normalizer<4,>=2 in /usr/local/lib/python3.10/dist-packages (from requests<3,>=2.27->gtts) (3.3.2)\n",
            "Requirement already satisfied: idna<4,>=2.5 in /usr/local/lib/python3.10/dist-packages (from requests<3,>=2.27->gtts) (3.7)\n",
            "Requirement already satisfied: urllib3<3,>=1.21.1 in /usr/local/lib/python3.10/dist-packages (from requests<3,>=2.27->gtts) (2.0.7)\n",
            "Requirement already satisfied: certifi>=2017.4.17 in /usr/local/lib/python3.10/dist-packages (from requests<3,>=2.27->gtts) (2024.7.4)\n",
            "Downloading gTTS-2.5.2-py3-none-any.whl (29 kB)\n",
            "Installing collected packages: gtts\n",
            "Successfully installed gtts-2.5.2\n",
            "Collecting playsound\n",
            "  Downloading playsound-1.3.0.tar.gz (7.7 kB)\n",
            "  Preparing metadata (setup.py) ... \u001b[?25l\u001b[?25hdone\n",
            "Building wheels for collected packages: playsound\n",
            "  Building wheel for playsound (setup.py) ... \u001b[?25l\u001b[?25hdone\n",
            "  Created wheel for playsound: filename=playsound-1.3.0-py3-none-any.whl size=7020 sha256=cbb169b18af43ff82b5569ba56cfbab4aa8c7e95dcba422826d5b6e86712b6e7\n",
            "  Stored in directory: /root/.cache/pip/wheels/90/89/ed/2d643f4226fc8c7c9156fc28abd8051e2d2c0de37ae51ac45c\n",
            "Successfully built playsound\n",
            "Installing collected packages: playsound\n",
            "Successfully installed playsound-1.3.0\n"
          ]
        }
      ],
      "source": [
        "!pip install deep-translator\n",
        "!pip install gtts\n",
        "!pip install playsound\n"
      ]
    },
    {
      "cell_type": "markdown",
      "source": [
        "# Preprocessing Function"
      ],
      "metadata": {
        "id": "EgzeHNoQfDBA"
      }
    },
    {
      "cell_type": "code",
      "source": [
        "import re\n",
        "\n",
        "#clean and format the text\n",
        "def preprocess_text(text):\n",
        "    # Remove extra spaces, newlines, and special characters\n",
        "    text = re.sub(r'\\s+', ' ', text)  # Replace multiple spaces with a single space\n",
        "    text = re.sub(r'\\n', ' ', text)  # Replace newlines with a space\n",
        "    text = re.sub(r'[^\\w\\s.,!?]', '', text)  # Remove special characters except common punctuation\n",
        "    text = text.strip()  # Remove leading and trailing spaces\n",
        "    return text\n"
      ],
      "metadata": {
        "id": "-x2lqebYfBpe"
      },
      "execution_count": 3,
      "outputs": []
    },
    {
      "cell_type": "markdown",
      "source": [
        "# Translation Function"
      ],
      "metadata": {
        "id": "7WXS6iiifj4_"
      }
    },
    {
      "cell_type": "code",
      "source": [
        "from deep_translator import GoogleTranslator\n",
        "\n",
        "# Translation function\n",
        "def translate_text(text, source_language, target_language):\n",
        "    translator = GoogleTranslator(source=source_language, target=target_language)\n",
        "    translation = translator.translate(text)\n",
        "    return translation\n"
      ],
      "metadata": {
        "id": "9nloPtA9fi7-"
      },
      "execution_count": 4,
      "outputs": []
    },
    {
      "cell_type": "markdown",
      "source": [
        "# Text-to-Speech (TTS) Function"
      ],
      "metadata": {
        "id": "q8vleVjvfppp"
      }
    },
    {
      "cell_type": "code",
      "source": [
        "from gtts import gTTS\n",
        "\n",
        "# Text-to-Speech (TTS) function\n",
        "def text_to_speech(text, language_code):\n",
        "    tts = gTTS(text=text, lang=language_code)\n",
        "    tts.save(\"output.mp3\")\n",
        "    print(\"Voice-over audio saved as 'output.mp3'\")\n"
      ],
      "metadata": {
        "id": "hmLZo9JFfnzy"
      },
      "execution_count": 5,
      "outputs": []
    },
    {
      "cell_type": "markdown",
      "source": [
        "# Audio Playback Function"
      ],
      "metadata": {
        "id": "FHIMe39WfuoJ"
      }
    },
    {
      "cell_type": "code",
      "source": [
        "from IPython.display import Audio, display\n",
        "\n",
        "# Function to play the audio\n",
        "def play_audio(file_path):\n",
        "    display(Audio(file_path, autoplay=True))\n"
      ],
      "metadata": {
        "id": "uG5lcD1pfsHZ"
      },
      "execution_count": 6,
      "outputs": []
    },
    {
      "cell_type": "markdown",
      "source": [
        "# Full Pipeline Function"
      ],
      "metadata": {
        "id": "k4CJA_2rfzCX"
      }
    },
    {
      "cell_type": "code",
      "source": [
        "# Full Pipeline function\n",
        "def process_document(document, source_language, target_language):\n",
        "    # Step 1: Preprocess the document text\n",
        "    cleaned_text = preprocess_text(document)\n",
        "    print(\"Cleaned Text:\", cleaned_text)\n",
        "\n",
        "    # Step 2: Translate the cleaned text\n",
        "    translated_text = translate_text(cleaned_text, source_language, target_language)\n",
        "    print(\"Translated Text:\", translated_text)\n",
        "\n",
        "    # Step 3: Convert translated text to speech\n",
        "    text_to_speech(translated_text, target_language)\n",
        "\n",
        "    # Step 4: Play the audio\n",
        "    play_audio(\"output.mp3\")\n"
      ],
      "metadata": {
        "id": "_TMaCRWefxLY"
      },
      "execution_count": 7,
      "outputs": []
    },
    {
      "cell_type": "markdown",
      "source": [
        "# User Input and Execution"
      ],
      "metadata": {
        "id": "K4SDh5qmf5Jq"
      }
    },
    {
      "cell_type": "code",
      "source": [
        "# Prompt the user to enter the source language code\n",
        "source_language = input(\"Enter the source language code (e.g., 'en' for English, 'es' for Spanish): \").strip()\n",
        "\n",
        "# Prompt the user to enter the document text\n",
        "document = input(\"Enter the document text: \")\n",
        "\n",
        "# Prompt the user to enter the target language code\n",
        "target_language = input(\"Enter the target language code (e.g., 'en' for English, 'ta' for Tamil): \").strip()\n",
        "\n",
        "# Process the document with the chosen languages\n",
        "process_document(document, source_language, target_language)\n"
      ],
      "metadata": {
        "colab": {
          "base_uri": "https://localhost:8080/",
          "height": 179
        },
        "id": "L34hm1gSf2j0",
        "outputId": "023b6ed8-0a56-4539-a604-490fa097d2c5"
      },
      "execution_count": 8,
      "outputs": [
        {
          "output_type": "stream",
          "name": "stdout",
          "text": [
            "Enter the source language code (e.g., 'en' for English, 'es' for Spanish): en\n",
            "Enter the document text: hello friends\n",
            "Enter the target language code (e.g., 'en' for English, 'ta' for Tamil): ta\n",
            "Cleaned Text: hello friends\n",
            "Translated Text: வணக்கம் நண்பர்களே\n",
            "Voice-over audio saved as 'output.mp3'\n"
          ]
        },
        {
          "output_type": "display_data",
          "data": {
            "text/plain": [
              "<IPython.lib.display.Audio object>"
            ],
            "text/html": [
              "\n",
              "                <audio  controls=\"controls\" autoplay=\"autoplay\">\n",
              "                    <source src=\"data:audio/mpeg;base64,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\" type=\"audio/mpeg\" />\n",
              "                    Your browser does not support the audio element.\n",
              "                </audio>\n",
              "              "
            ]
          },
          "metadata": {}
        }
      ]
    },
    {
      "cell_type": "code",
      "source": [
        "import pickle\n",
        "from deep_translator import GoogleTranslator\n",
        "\n",
        "# Function to save the translation model to a pickle file\n",
        "def save_model():\n",
        "    translator = GoogleTranslator(source=source_language, target=target_language)\n",
        "    with open('translator.pkl', 'wb') as f:\n",
        "        pickle.dump(translator, f)\n",
        "    print(\"Model saved as translator.pkl\")\n",
        "\n",
        "save_model()\n"
      ],
      "metadata": {
        "id": "ZHf6PqsXoDly",
        "colab": {
          "base_uri": "https://localhost:8080/"
        },
        "outputId": "cd5911b4-edae-4611-fab0-e6d117f01fbc"
      },
      "execution_count": 13,
      "outputs": [
        {
          "output_type": "stream",
          "name": "stdout",
          "text": [
            "Model saved as translator.pkl\n"
          ]
        }
      ]
    }
  ]
}